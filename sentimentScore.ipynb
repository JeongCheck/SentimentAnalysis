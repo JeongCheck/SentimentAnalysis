{
 "cells": [
  {
   "cell_type": "code",
   "execution_count": 2,
   "id": "037de980",
   "metadata": {},
   "outputs": [],
   "source": [
    "import random\n",
    "import numpy as np \n",
    "\n",
    "import time\n",
    "import datetime\n",
    "import pandas as pd\n",
    "import os\n",
    "from tqdm import tqdm"
   ]
  },
  {
   "cell_type": "code",
   "execution_count": 47,
   "id": "629741d6",
   "metadata": {},
   "outputs": [],
   "source": [
    "pj_path = os.getenv('HOME') + '/Projects/JeongCheck'\n",
    "data_path = pj_path + '/prediction_data_nsmc'"
   ]
  },
  {
   "cell_type": "code",
   "execution_count": 48,
   "id": "642c86f5",
   "metadata": {},
   "outputs": [
    {
     "name": "stdout",
     "output_type": "stream",
     "text": [
      "15\n"
     ]
    },
    {
     "data": {
      "text/plain": [
       "['water_pred.csv',\n",
       " 'art_pred.csv',\n",
       " 'oworld_pred.csv',\n",
       " 'observatory_pred.csv',\n",
       " 'dongchundang_pred.csv',\n",
       " 'hanbat_pred.csv',\n",
       " 'yuseong_pred.csv',\n",
       " 'expo_pred.csv',\n",
       " 'gyejok_pred.csv',\n",
       " 'daecheong_pred.csv',\n",
       " 'jangtae_pred.csv',\n",
       " 'uineungjeongi_pred.csv',\n",
       " 'science_pred.csv',\n",
       " 'ppuri_pred.csv',\n",
       " 'sungsimdang_pred.csv']"
      ]
     },
     "execution_count": 48,
     "metadata": {},
     "output_type": "execute_result"
    }
   ],
   "source": [
    "file_list = os.listdir(data_path)\n",
    "print(len(file_list))\n",
    "file_list"
   ]
  },
  {
   "cell_type": "code",
   "execution_count": 50,
   "id": "235d042c",
   "metadata": {},
   "outputs": [],
   "source": [
    "places = []\n",
    "for file in file_list:\n",
    "    tmp = file.split('_')[0]\n",
    "    places.append(tmp)"
   ]
  },
  {
   "cell_type": "code",
   "execution_count": 51,
   "id": "30276ee0",
   "metadata": {},
   "outputs": [
    {
     "data": {
      "text/plain": [
       "['water',\n",
       " 'art',\n",
       " 'oworld',\n",
       " 'observatory',\n",
       " 'dongchundang',\n",
       " 'hanbat',\n",
       " 'yuseong',\n",
       " 'expo',\n",
       " 'gyejok',\n",
       " 'daecheong',\n",
       " 'jangtae',\n",
       " 'uineungjeongi',\n",
       " 'science',\n",
       " 'ppuri',\n",
       " 'sungsimdang']"
      ]
     },
     "execution_count": 51,
     "metadata": {},
     "output_type": "execute_result"
    }
   ],
   "source": [
    "places"
   ]
  },
  {
   "cell_type": "code",
   "execution_count": 52,
   "id": "5529e6c0",
   "metadata": {},
   "outputs": [
    {
     "data": {
      "text/html": [
       "<div>\n",
       "<style scoped>\n",
       "    .dataframe tbody tr th:only-of-type {\n",
       "        vertical-align: middle;\n",
       "    }\n",
       "\n",
       "    .dataframe tbody tr th {\n",
       "        vertical-align: top;\n",
       "    }\n",
       "\n",
       "    .dataframe thead th {\n",
       "        text-align: right;\n",
       "    }\n",
       "</style>\n",
       "<table border=\"1\" class=\"dataframe\">\n",
       "  <thead>\n",
       "    <tr style=\"text-align: right;\">\n",
       "      <th></th>\n",
       "      <th>Unnamed: 0</th>\n",
       "      <th>name</th>\n",
       "      <th>ratings</th>\n",
       "      <th>date</th>\n",
       "      <th>comment</th>\n",
       "      <th>search</th>\n",
       "      <th>keyword</th>\n",
       "      <th>label</th>\n",
       "      <th>pred</th>\n",
       "    </tr>\n",
       "  </thead>\n",
       "  <tbody>\n",
       "    <tr>\n",
       "      <th>0</th>\n",
       "      <td>0</td>\n",
       "      <td>김성주</td>\n",
       "      <td>5</td>\n",
       "      <td>9시간 전</td>\n",
       "      <td>가편하게 산책과 등산을 할 수 있는 곳</td>\n",
       "      <td>계룡산국립공원수통골지구</td>\n",
       "      <td>water_barrel</td>\n",
       "      <td>1</td>\n",
       "      <td>1</td>\n",
       "    </tr>\n",
       "    <tr>\n",
       "      <th>1</th>\n",
       "      <td>1</td>\n",
       "      <td>서알콩</td>\n",
       "      <td>5</td>\n",
       "      <td>1일 전</td>\n",
       "      <td>커피 한잔하기 딱 좋은 거리에요</td>\n",
       "      <td>계룡산국립공원수통골지구</td>\n",
       "      <td>water_barrel</td>\n",
       "      <td>1</td>\n",
       "      <td>1</td>\n",
       "    </tr>\n",
       "    <tr>\n",
       "      <th>2</th>\n",
       "      <td>2</td>\n",
       "      <td>윤설희</td>\n",
       "      <td>5</td>\n",
       "      <td>2일 전</td>\n",
       "      <td>비 오고 난 수통골</td>\n",
       "      <td>계룡산국립공원수통골지구</td>\n",
       "      <td>water_barrel</td>\n",
       "      <td>1</td>\n",
       "      <td>0</td>\n",
       "    </tr>\n",
       "    <tr>\n",
       "      <th>3</th>\n",
       "      <td>3</td>\n",
       "      <td>이상훈</td>\n",
       "      <td>4</td>\n",
       "      <td>2일 전</td>\n",
       "      <td>가족 나들이하기 정말 좋은 곳 국립공원이라 관리도 잘 돼있네요</td>\n",
       "      <td>계룡산국립공원수통골지구</td>\n",
       "      <td>water_barrel</td>\n",
       "      <td>1</td>\n",
       "      <td>1</td>\n",
       "    </tr>\n",
       "    <tr>\n",
       "      <th>4</th>\n",
       "      <td>4</td>\n",
       "      <td>송순이공주</td>\n",
       "      <td>5</td>\n",
       "      <td>2일 전</td>\n",
       "      <td>동네라서 자주 가는데 갈 때마다 좋은 곳이에요 이번에는 뱀이 나와서 좀 놀랐어요</td>\n",
       "      <td>계룡산국립공원수통골지구</td>\n",
       "      <td>water_barrel</td>\n",
       "      <td>1</td>\n",
       "      <td>1</td>\n",
       "    </tr>\n",
       "  </tbody>\n",
       "</table>\n",
       "</div>"
      ],
      "text/plain": [
       "   Unnamed: 0   name  ratings   date  \\\n",
       "0           0    김성주        5  9시간 전   \n",
       "1           1    서알콩        5   1일 전   \n",
       "2           2    윤설희        5   2일 전   \n",
       "3           3    이상훈        4   2일 전   \n",
       "4           4  송순이공주        5   2일 전   \n",
       "\n",
       "                                        comment        search       keyword  \\\n",
       "0                         가편하게 산책과 등산을 할 수 있는 곳  계룡산국립공원수통골지구  water_barrel   \n",
       "1                             커피 한잔하기 딱 좋은 거리에요  계룡산국립공원수통골지구  water_barrel   \n",
       "2                                    비 오고 난 수통골  계룡산국립공원수통골지구  water_barrel   \n",
       "3            가족 나들이하기 정말 좋은 곳 국립공원이라 관리도 잘 돼있네요  계룡산국립공원수통골지구  water_barrel   \n",
       "4  동네라서 자주 가는데 갈 때마다 좋은 곳이에요 이번에는 뱀이 나와서 좀 놀랐어요  계룡산국립공원수통골지구  water_barrel   \n",
       "\n",
       "   label  pred  \n",
       "0      1     1  \n",
       "1      1     1  \n",
       "2      1     0  \n",
       "3      1     1  \n",
       "4      1     1  "
      ]
     },
     "execution_count": 52,
     "metadata": {},
     "output_type": "execute_result"
    }
   ],
   "source": [
    "test = pd.read_csv(data_path + f'/{file_list[0]}')\n",
    "test.head()"
   ]
  },
  {
   "cell_type": "code",
   "execution_count": 57,
   "id": "9cb88027",
   "metadata": {},
   "outputs": [],
   "source": [
    "def sentimentScore(df):\n",
    "    data_len = len(df)\n",
    "    data_label = df.label.sum()\n",
    "    score = (data_label / data_len) *100\n",
    "    return '%0.2f' %score"
   ]
  },
  {
   "cell_type": "markdown",
   "id": "a1997fe2",
   "metadata": {},
   "source": [
    "- 함수 테스트"
   ]
  },
  {
   "cell_type": "code",
   "execution_count": 73,
   "id": "74da6c26",
   "metadata": {},
   "outputs": [
    {
     "data": {
      "text/plain": [
       "'94.89'"
      ]
     },
     "execution_count": 73,
     "metadata": {},
     "output_type": "execute_result"
    }
   ],
   "source": [
    "score = sentimentScore(test)\n",
    "score"
   ]
  },
  {
   "cell_type": "code",
   "execution_count": 60,
   "id": "b5418db5",
   "metadata": {},
   "outputs": [
    {
     "name": "stdout",
     "output_type": "stream",
     "text": [
      "water_pred.csv\n",
      "art_pred.csv\n",
      "oworld_pred.csv\n",
      "observatory_pred.csv\n",
      "dongchundang_pred.csv\n",
      "hanbat_pred.csv\n",
      "yuseong_pred.csv\n",
      "expo_pred.csv\n",
      "gyejok_pred.csv\n",
      "daecheong_pred.csv\n",
      "jangtae_pred.csv\n",
      "uineungjeongi_pred.csv\n",
      "science_pred.csv\n",
      "ppuri_pred.csv\n",
      "sungsimdang_pred.csv\n"
     ]
    }
   ],
   "source": [
    "for place, file_name in zip(places, file_list):\n",
    "    print(file_name)"
   ]
  },
  {
   "cell_type": "code",
   "execution_count": 61,
   "id": "3782423b",
   "metadata": {},
   "outputs": [],
   "source": [
    "score_dict = {}\n",
    "for place, file_name in zip(places, file_list):\n",
    "    tmp_data = pd.read_csv(data_path + f'/{file_name}')\n",
    "    score = sentimentScore(tmp_data)\n",
    "    score_dict[place] = [score]"
   ]
  },
  {
   "cell_type": "code",
   "execution_count": 62,
   "id": "3016ac8e",
   "metadata": {},
   "outputs": [
    {
     "data": {
      "text/plain": [
       "{'water': ['94.89'],\n",
       " 'art': ['80.68'],\n",
       " 'oworld': ['81.76'],\n",
       " 'observatory': ['92.31'],\n",
       " 'dongchundang': ['93.58'],\n",
       " 'hanbat': ['88.56'],\n",
       " 'yuseong': ['90.21'],\n",
       " 'expo': ['74.74'],\n",
       " 'gyejok': ['93.84'],\n",
       " 'daecheong': ['81.39'],\n",
       " 'jangtae': ['90.00'],\n",
       " 'uineungjeongi': ['68.77'],\n",
       " 'science': ['88.19'],\n",
       " 'ppuri': ['85.45'],\n",
       " 'sungsimdang': ['83.32']}"
      ]
     },
     "execution_count": 62,
     "metadata": {},
     "output_type": "execute_result"
    }
   ],
   "source": [
    "score_dict"
   ]
  },
  {
   "cell_type": "code",
   "execution_count": 71,
   "id": "c8173c00",
   "metadata": {},
   "outputs": [],
   "source": [
    "sort_score = sorted(score_dict, key=score_dict.get, reverse=True)"
   ]
  },
  {
   "cell_type": "code",
   "execution_count": 72,
   "id": "11bfcdc7",
   "metadata": {},
   "outputs": [
    {
     "data": {
      "text/plain": [
       "['water',\n",
       " 'gyejok',\n",
       " 'dongchundang',\n",
       " 'observatory',\n",
       " 'yuseong',\n",
       " 'jangtae',\n",
       " 'hanbat',\n",
       " 'science',\n",
       " 'ppuri',\n",
       " 'sungsimdang',\n",
       " 'oworld',\n",
       " 'daecheong',\n",
       " 'art',\n",
       " 'expo',\n",
       " 'uineungjeongi']"
      ]
     },
     "execution_count": 72,
     "metadata": {},
     "output_type": "execute_result"
    }
   ],
   "source": [
    "sort_score"
   ]
  },
  {
   "cell_type": "code",
   "execution_count": 63,
   "id": "5d69f094",
   "metadata": {},
   "outputs": [
    {
     "data": {
      "text/html": [
       "<div>\n",
       "<style scoped>\n",
       "    .dataframe tbody tr th:only-of-type {\n",
       "        vertical-align: middle;\n",
       "    }\n",
       "\n",
       "    .dataframe tbody tr th {\n",
       "        vertical-align: top;\n",
       "    }\n",
       "\n",
       "    .dataframe thead th {\n",
       "        text-align: right;\n",
       "    }\n",
       "</style>\n",
       "<table border=\"1\" class=\"dataframe\">\n",
       "  <thead>\n",
       "    <tr style=\"text-align: right;\">\n",
       "      <th></th>\n",
       "      <th>water</th>\n",
       "      <th>art</th>\n",
       "      <th>oworld</th>\n",
       "      <th>observatory</th>\n",
       "      <th>dongchundang</th>\n",
       "      <th>hanbat</th>\n",
       "      <th>yuseong</th>\n",
       "      <th>expo</th>\n",
       "      <th>gyejok</th>\n",
       "      <th>daecheong</th>\n",
       "      <th>jangtae</th>\n",
       "      <th>uineungjeongi</th>\n",
       "      <th>science</th>\n",
       "      <th>ppuri</th>\n",
       "      <th>sungsimdang</th>\n",
       "    </tr>\n",
       "  </thead>\n",
       "  <tbody>\n",
       "    <tr>\n",
       "      <th>0</th>\n",
       "      <td>94.89</td>\n",
       "      <td>80.68</td>\n",
       "      <td>81.76</td>\n",
       "      <td>92.31</td>\n",
       "      <td>93.58</td>\n",
       "      <td>88.56</td>\n",
       "      <td>90.21</td>\n",
       "      <td>74.74</td>\n",
       "      <td>93.84</td>\n",
       "      <td>81.39</td>\n",
       "      <td>90.00</td>\n",
       "      <td>68.77</td>\n",
       "      <td>88.19</td>\n",
       "      <td>85.45</td>\n",
       "      <td>83.32</td>\n",
       "    </tr>\n",
       "  </tbody>\n",
       "</table>\n",
       "</div>"
      ],
      "text/plain": [
       "   water    art oworld observatory dongchundang hanbat yuseong   expo gyejok  \\\n",
       "0  94.89  80.68  81.76       92.31        93.58  88.56   90.21  74.74  93.84   \n",
       "\n",
       "  daecheong jangtae uineungjeongi science  ppuri sungsimdang  \n",
       "0     81.39   90.00         68.77   88.19  85.45       83.32  "
      ]
     },
     "execution_count": 63,
     "metadata": {},
     "output_type": "execute_result"
    }
   ],
   "source": [
    "pd.DataFrame.from_dict(score_dict)"
   ]
  }
 ],
 "metadata": {
  "kernelspec": {
   "display_name": "Python 3",
   "language": "python",
   "name": "python3"
  },
  "language_info": {
   "codemirror_mode": {
    "name": "ipython",
    "version": 3
   },
   "file_extension": ".py",
   "mimetype": "text/x-python",
   "name": "python",
   "nbconvert_exporter": "python",
   "pygments_lexer": "ipython3",
   "version": "3.7.9"
  }
 },
 "nbformat": 4,
 "nbformat_minor": 5
}
