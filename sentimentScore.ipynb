{
 "cells": [
  {
   "cell_type": "markdown",
   "id": "9bf433b3",
   "metadata": {},
   "source": [
    "# 감성 분석 점수 계산\n",
    "- 최종모델로 감성분석을 진행한 데이터셋을 이용해 각 관광지의 감성분석 점수를 계산한다. "
   ]
  },
  {
   "cell_type": "code",
   "execution_count": 2,
   "id": "ddd0275d",
   "metadata": {},
   "outputs": [],
   "source": [
    "import random\n",
    "import numpy as np \n",
    "\n",
    "import time\n",
    "import datetime\n",
    "import pandas as pd\n",
    "import os\n",
    "from tqdm import tqdm"
   ]
  },
  {
   "cell_type": "code",
   "execution_count": 3,
   "id": "f9ef0121",
   "metadata": {},
   "outputs": [],
   "source": [
    "pj_path = os.getenv('HOME') + '/Projects/JeongCheck'\n",
    "data_path = pj_path + '/prediction_data_nsmc'"
   ]
  },
  {
   "cell_type": "code",
   "execution_count": 4,
   "id": "503a2bcc",
   "metadata": {},
   "outputs": [
    {
     "name": "stdout",
     "output_type": "stream",
     "text": [
      "15\n"
     ]
    },
    {
     "data": {
      "text/plain": [
       "['water_pred.csv',\n",
       " 'art_pred.csv',\n",
       " 'oworld_pred.csv',\n",
       " 'observatory_pred.csv',\n",
       " 'dongchundang_pred.csv',\n",
       " 'hanbat_pred.csv',\n",
       " 'yuseong_pred.csv',\n",
       " 'expo_pred.csv',\n",
       " 'gyejok_pred.csv',\n",
       " 'daecheong_pred.csv',\n",
       " 'jangtae_pred.csv',\n",
       " 'uineungjeongi_pred.csv',\n",
       " 'science_pred.csv',\n",
       " 'ppuri_pred.csv',\n",
       " 'sungsimdang_pred.csv']"
      ]
     },
     "execution_count": 4,
     "metadata": {},
     "output_type": "execute_result"
    }
   ],
   "source": [
    "file_list = os.listdir(data_path)\n",
    "print(len(file_list))\n",
    "file_list"
   ]
  },
  {
   "cell_type": "code",
   "execution_count": 5,
   "id": "38c4091d",
   "metadata": {},
   "outputs": [],
   "source": [
    "places = []\n",
    "for file in file_list:\n",
    "    tmp = file.split('_')[0]\n",
    "    places.append(tmp)"
   ]
  },
  {
   "cell_type": "code",
   "execution_count": 6,
   "id": "6f22c326",
   "metadata": {},
   "outputs": [
    {
     "data": {
      "text/plain": [
       "['water',\n",
       " 'art',\n",
       " 'oworld',\n",
       " 'observatory',\n",
       " 'dongchundang',\n",
       " 'hanbat',\n",
       " 'yuseong',\n",
       " 'expo',\n",
       " 'gyejok',\n",
       " 'daecheong',\n",
       " 'jangtae',\n",
       " 'uineungjeongi',\n",
       " 'science',\n",
       " 'ppuri',\n",
       " 'sungsimdang']"
      ]
     },
     "execution_count": 6,
     "metadata": {},
     "output_type": "execute_result"
    }
   ],
   "source": [
    "places"
   ]
  },
  {
   "cell_type": "code",
   "execution_count": 7,
   "id": "f6d6bb69",
   "metadata": {},
   "outputs": [
    {
     "data": {
      "text/html": [
       "<div>\n",
       "<style scoped>\n",
       "    .dataframe tbody tr th:only-of-type {\n",
       "        vertical-align: middle;\n",
       "    }\n",
       "\n",
       "    .dataframe tbody tr th {\n",
       "        vertical-align: top;\n",
       "    }\n",
       "\n",
       "    .dataframe thead th {\n",
       "        text-align: right;\n",
       "    }\n",
       "</style>\n",
       "<table border=\"1\" class=\"dataframe\">\n",
       "  <thead>\n",
       "    <tr style=\"text-align: right;\">\n",
       "      <th></th>\n",
       "      <th>Unnamed: 0</th>\n",
       "      <th>name</th>\n",
       "      <th>ratings</th>\n",
       "      <th>date</th>\n",
       "      <th>comment</th>\n",
       "      <th>search</th>\n",
       "      <th>keyword</th>\n",
       "      <th>label</th>\n",
       "      <th>pred</th>\n",
       "    </tr>\n",
       "  </thead>\n",
       "  <tbody>\n",
       "    <tr>\n",
       "      <th>0</th>\n",
       "      <td>0</td>\n",
       "      <td>김성주</td>\n",
       "      <td>5</td>\n",
       "      <td>9시간 전</td>\n",
       "      <td>가편하게 산책과 등산을 할 수 있는 곳</td>\n",
       "      <td>계룡산국립공원수통골지구</td>\n",
       "      <td>water_barrel</td>\n",
       "      <td>1</td>\n",
       "      <td>1</td>\n",
       "    </tr>\n",
       "    <tr>\n",
       "      <th>1</th>\n",
       "      <td>1</td>\n",
       "      <td>서알콩</td>\n",
       "      <td>5</td>\n",
       "      <td>1일 전</td>\n",
       "      <td>커피 한잔하기 딱 좋은 거리에요</td>\n",
       "      <td>계룡산국립공원수통골지구</td>\n",
       "      <td>water_barrel</td>\n",
       "      <td>1</td>\n",
       "      <td>1</td>\n",
       "    </tr>\n",
       "    <tr>\n",
       "      <th>2</th>\n",
       "      <td>2</td>\n",
       "      <td>윤설희</td>\n",
       "      <td>5</td>\n",
       "      <td>2일 전</td>\n",
       "      <td>비 오고 난 수통골</td>\n",
       "      <td>계룡산국립공원수통골지구</td>\n",
       "      <td>water_barrel</td>\n",
       "      <td>1</td>\n",
       "      <td>0</td>\n",
       "    </tr>\n",
       "    <tr>\n",
       "      <th>3</th>\n",
       "      <td>3</td>\n",
       "      <td>이상훈</td>\n",
       "      <td>4</td>\n",
       "      <td>2일 전</td>\n",
       "      <td>가족 나들이하기 정말 좋은 곳 국립공원이라 관리도 잘 돼있네요</td>\n",
       "      <td>계룡산국립공원수통골지구</td>\n",
       "      <td>water_barrel</td>\n",
       "      <td>1</td>\n",
       "      <td>1</td>\n",
       "    </tr>\n",
       "    <tr>\n",
       "      <th>4</th>\n",
       "      <td>4</td>\n",
       "      <td>송순이공주</td>\n",
       "      <td>5</td>\n",
       "      <td>2일 전</td>\n",
       "      <td>동네라서 자주 가는데 갈 때마다 좋은 곳이에요 이번에는 뱀이 나와서 좀 놀랐어요</td>\n",
       "      <td>계룡산국립공원수통골지구</td>\n",
       "      <td>water_barrel</td>\n",
       "      <td>1</td>\n",
       "      <td>1</td>\n",
       "    </tr>\n",
       "  </tbody>\n",
       "</table>\n",
       "</div>"
      ],
      "text/plain": [
       "   Unnamed: 0   name  ratings   date  \\\n",
       "0           0    김성주        5  9시간 전   \n",
       "1           1    서알콩        5   1일 전   \n",
       "2           2    윤설희        5   2일 전   \n",
       "3           3    이상훈        4   2일 전   \n",
       "4           4  송순이공주        5   2일 전   \n",
       "\n",
       "                                        comment        search       keyword  \\\n",
       "0                         가편하게 산책과 등산을 할 수 있는 곳  계룡산국립공원수통골지구  water_barrel   \n",
       "1                             커피 한잔하기 딱 좋은 거리에요  계룡산국립공원수통골지구  water_barrel   \n",
       "2                                    비 오고 난 수통골  계룡산국립공원수통골지구  water_barrel   \n",
       "3            가족 나들이하기 정말 좋은 곳 국립공원이라 관리도 잘 돼있네요  계룡산국립공원수통골지구  water_barrel   \n",
       "4  동네라서 자주 가는데 갈 때마다 좋은 곳이에요 이번에는 뱀이 나와서 좀 놀랐어요  계룡산국립공원수통골지구  water_barrel   \n",
       "\n",
       "   label  pred  \n",
       "0      1     1  \n",
       "1      1     1  \n",
       "2      1     0  \n",
       "3      1     1  \n",
       "4      1     1  "
      ]
     },
     "execution_count": 7,
     "metadata": {},
     "output_type": "execute_result"
    }
   ],
   "source": [
    "test = pd.read_csv(data_path + f'/{file_list[0]}')\n",
    "test.head()"
   ]
  },
  {
   "cell_type": "code",
   "execution_count": 8,
   "id": "468e831d",
   "metadata": {},
   "outputs": [],
   "source": [
    "def sentimentScorePred(df):\n",
    "    data_len = len(df)\n",
    "    data_pred = df.pred.sum()\n",
    "    score = (data_pred / data_len) *100\n",
    "    return '%0.2f' %score"
   ]
  },
  {
   "cell_type": "markdown",
   "id": "3d188423",
   "metadata": {},
   "source": [
    "- 함수 테스트"
   ]
  },
  {
   "cell_type": "code",
   "execution_count": 10,
   "id": "d8932aeb",
   "metadata": {},
   "outputs": [
    {
     "data": {
      "text/plain": [
       "'80.88'"
      ]
     },
     "execution_count": 10,
     "metadata": {},
     "output_type": "execute_result"
    }
   ],
   "source": [
    "score = sentimentScorePred(test)\n",
    "score"
   ]
  },
  {
   "cell_type": "code",
   "execution_count": 11,
   "id": "2ec38c51",
   "metadata": {},
   "outputs": [
    {
     "name": "stdout",
     "output_type": "stream",
     "text": [
      "water_pred.csv\n",
      "art_pred.csv\n",
      "oworld_pred.csv\n",
      "observatory_pred.csv\n",
      "dongchundang_pred.csv\n",
      "hanbat_pred.csv\n",
      "yuseong_pred.csv\n",
      "expo_pred.csv\n",
      "gyejok_pred.csv\n",
      "daecheong_pred.csv\n",
      "jangtae_pred.csv\n",
      "uineungjeongi_pred.csv\n",
      "science_pred.csv\n",
      "ppuri_pred.csv\n",
      "sungsimdang_pred.csv\n"
     ]
    }
   ],
   "source": [
    "for place, file_name in zip(places, file_list):\n",
    "    print(file_name)"
   ]
  },
  {
   "cell_type": "code",
   "execution_count": 12,
   "id": "96cffc22",
   "metadata": {},
   "outputs": [],
   "source": [
    "score_dict = {}\n",
    "for place, file_name in zip(places, file_list):\n",
    "    tmp_data = pd.read_csv(data_path + f'/{file_name}')\n",
    "    score = sentimentScorePred(tmp_data)\n",
    "    score_dict[place] = [score]"
   ]
  },
  {
   "cell_type": "code",
   "execution_count": 13,
   "id": "96306fff",
   "metadata": {},
   "outputs": [
    {
     "data": {
      "text/plain": [
       "{'water': ['80.88'],\n",
       " 'art': ['81.29'],\n",
       " 'oworld': ['79.28'],\n",
       " 'observatory': ['80.77'],\n",
       " 'dongchundang': ['82.87'],\n",
       " 'hanbat': ['81.34'],\n",
       " 'yuseong': ['77.39'],\n",
       " 'expo': ['76.79'],\n",
       " 'gyejok': ['82.38'],\n",
       " 'daecheong': ['74.85'],\n",
       " 'jangtae': ['88.63'],\n",
       " 'uineungjeongi': ['69.07'],\n",
       " 'science': ['77.43'],\n",
       " 'ppuri': ['82.86'],\n",
       " 'sungsimdang': ['77.73']}"
      ]
     },
     "execution_count": 13,
     "metadata": {},
     "output_type": "execute_result"
    }
   ],
   "source": [
    "score_dict"
   ]
  },
  {
   "cell_type": "code",
   "execution_count": 14,
   "id": "49570e7d",
   "metadata": {},
   "outputs": [],
   "source": [
    "sort_score = sorted(score_dict, key=score_dict.get, reverse=True)"
   ]
  },
  {
   "cell_type": "code",
   "execution_count": 15,
   "id": "754efe85",
   "metadata": {},
   "outputs": [
    {
     "data": {
      "text/plain": [
       "['jangtae',\n",
       " 'dongchundang',\n",
       " 'ppuri',\n",
       " 'gyejok',\n",
       " 'hanbat',\n",
       " 'art',\n",
       " 'water',\n",
       " 'observatory',\n",
       " 'oworld',\n",
       " 'sungsimdang',\n",
       " 'science',\n",
       " 'yuseong',\n",
       " 'expo',\n",
       " 'daecheong',\n",
       " 'uineungjeongi']"
      ]
     },
     "execution_count": 15,
     "metadata": {},
     "output_type": "execute_result"
    }
   ],
   "source": [
    "sort_score"
   ]
  },
  {
   "cell_type": "code",
   "execution_count": 16,
   "id": "76c95165",
   "metadata": {},
   "outputs": [
    {
     "data": {
      "text/html": [
       "<div>\n",
       "<style scoped>\n",
       "    .dataframe tbody tr th:only-of-type {\n",
       "        vertical-align: middle;\n",
       "    }\n",
       "\n",
       "    .dataframe tbody tr th {\n",
       "        vertical-align: top;\n",
       "    }\n",
       "\n",
       "    .dataframe thead th {\n",
       "        text-align: right;\n",
       "    }\n",
       "</style>\n",
       "<table border=\"1\" class=\"dataframe\">\n",
       "  <thead>\n",
       "    <tr style=\"text-align: right;\">\n",
       "      <th></th>\n",
       "      <th>water</th>\n",
       "      <th>art</th>\n",
       "      <th>oworld</th>\n",
       "      <th>observatory</th>\n",
       "      <th>dongchundang</th>\n",
       "      <th>hanbat</th>\n",
       "      <th>yuseong</th>\n",
       "      <th>expo</th>\n",
       "      <th>gyejok</th>\n",
       "      <th>daecheong</th>\n",
       "      <th>jangtae</th>\n",
       "      <th>uineungjeongi</th>\n",
       "      <th>science</th>\n",
       "      <th>ppuri</th>\n",
       "      <th>sungsimdang</th>\n",
       "    </tr>\n",
       "  </thead>\n",
       "  <tbody>\n",
       "    <tr>\n",
       "      <th>0</th>\n",
       "      <td>80.88</td>\n",
       "      <td>81.29</td>\n",
       "      <td>79.28</td>\n",
       "      <td>80.77</td>\n",
       "      <td>82.87</td>\n",
       "      <td>81.34</td>\n",
       "      <td>77.39</td>\n",
       "      <td>76.79</td>\n",
       "      <td>82.38</td>\n",
       "      <td>74.85</td>\n",
       "      <td>88.63</td>\n",
       "      <td>69.07</td>\n",
       "      <td>77.43</td>\n",
       "      <td>82.86</td>\n",
       "      <td>77.73</td>\n",
       "    </tr>\n",
       "  </tbody>\n",
       "</table>\n",
       "</div>"
      ],
      "text/plain": [
       "   water    art oworld observatory dongchundang hanbat yuseong   expo gyejok  \\\n",
       "0  80.88  81.29  79.28       80.77        82.87  81.34   77.39  76.79  82.38   \n",
       "\n",
       "  daecheong jangtae uineungjeongi science  ppuri sungsimdang  \n",
       "0     74.85   88.63         69.07   77.43  82.86       77.73  "
      ]
     },
     "execution_count": 16,
     "metadata": {},
     "output_type": "execute_result"
    }
   ],
   "source": [
    "pd.DataFrame.from_dict(score_dict)"
   ]
  }
 ],
 "metadata": {
  "kernelspec": {
   "display_name": "Python 3",
   "language": "python",
   "name": "python3"
  },
  "language_info": {
   "codemirror_mode": {
    "name": "ipython",
    "version": 3
   },
   "file_extension": ".py",
   "mimetype": "text/x-python",
   "name": "python",
   "nbconvert_exporter": "python",
   "pygments_lexer": "ipython3",
   "version": "3.7.9"
  }
 },
 "nbformat": 4,
 "nbformat_minor": 5
}
